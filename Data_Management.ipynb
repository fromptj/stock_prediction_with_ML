{
 "cells": [
  {
   "cell_type": "code",
   "execution_count": 17,
   "metadata": {},
   "outputs": [],
   "source": [
    "import pandas as pd\n",
    "pd.core.common.is_list_like = pd.api.types.is_list_like # may be necessary in some versions of pandas\n",
    "import pandas_datareader.data as web"
   ]
  },
  {
   "cell_type": "code",
   "execution_count": 48,
   "metadata": {},
   "outputs": [
    {
     "name": "stdout",
     "output_type": "stream",
     "text": [
      "                         open        high         low       close      volume\n",
      "date       symbol                                                            \n",
      "2016-12-30 AAPL    115.209202  115.752409  114.004271  114.389454  30586265.0\n",
      "2016-12-29 AAPL    115.011672  115.663027  114.962290  115.288214  15039519.0\n",
      "2016-12-28 AAPL    116.068456  116.558923  114.764760  115.317843  20905892.0\n",
      "2016-12-27 AAPL    115.080808  116.344998  115.051178  115.811668  18296855.0\n",
      "2016-12-23 AAPL    114.162295  115.080808  114.162295  115.080808  14249484.0\n",
      "                         open        high         low       close      volume\n",
      "date       symbol                                                            \n",
      "2016-12-30 AAPL    115.209202  115.752409  114.004271  114.389454  30586265.0\n",
      "2016-12-29 AAPL    115.011672  115.663027  114.962290  115.288214  15039519.0\n",
      "2016-12-28 AAPL    116.068456  116.558923  114.764760  115.317843  20905892.0\n",
      "2016-12-27 AAPL    115.080808  116.344998  115.051178  115.811668  18296855.0\n",
      "2016-12-23 AAPL    114.162295  115.080808  114.162295  115.080808  14249484.0\n"
     ]
    }
   ],
   "source": [
    "def get_symbols(symbols, data_source, begin_date=None, end_date=None):\n",
    "    out = pd.DataFrame()\n",
    "    for symbol in symbols:\n",
    "        df = web.DataReader(symbol, data_source, begin_date, end_date, api_key='2gwP5WpwYPiHshKy1H9v')\\\n",
    "        [['AdjOpen','AdjHigh','AdjLow','AdjClose','AdjVolume']].reset_index()\n",
    "        df.columns = ['date','open','high','low','close','volume'] #my convention: always lowercase\n",
    "        df['symbol'] = symbol # add a new column which contains the symbol so we can keep multiple symbols in the same dataframe\n",
    "        df = df.set_index(['date', 'symbol'])\n",
    "        out = pd.concat([out, df], axis=0) #stacks on top of previously collected data\n",
    "    return out.sort_index()\n",
    "        \n",
    "prices = get_symbols(['AAPL','CSCO'], data_source='quandl', begin_date='2015-01-01',end_date='2017-01-01')"
   ]
  },
  {
   "cell_type": "code",
   "execution_count": 49,
   "metadata": {},
   "outputs": [
    {
     "name": "stdout",
     "output_type": "stream",
     "text": [
      "MultiIndex([('2015-01-02', 'AAPL'),\n",
      "            ('2015-01-02', 'CSCO'),\n",
      "            ('2015-01-05', 'AAPL'),\n",
      "            ('2015-01-05', 'CSCO'),\n",
      "            ('2015-01-06', 'AAPL'),\n",
      "            ('2015-01-06', 'CSCO'),\n",
      "            ('2015-01-07', 'AAPL'),\n",
      "            ('2015-01-07', 'CSCO'),\n",
      "            ('2015-01-08', 'AAPL'),\n",
      "            ('2015-01-08', 'CSCO'),\n",
      "            ...\n",
      "            ('2016-12-23', 'AAPL'),\n",
      "            ('2016-12-23', 'CSCO'),\n",
      "            ('2016-12-27', 'AAPL'),\n",
      "            ('2016-12-27', 'CSCO'),\n",
      "            ('2016-12-28', 'AAPL'),\n",
      "            ('2016-12-28', 'CSCO'),\n",
      "            ('2016-12-29', 'AAPL'),\n",
      "            ('2016-12-29', 'CSCO'),\n",
      "            ('2016-12-30', 'AAPL'),\n",
      "            ('2016-12-30', 'CSCO')],\n",
      "           names=['date', 'symbol'], length=1008)\n",
      "                   volume_change_ratio  momentum_5_day  intraday_chg  \\\n",
      "date       symbol                                                      \n",
      "2016-12-23 AAPL              -0.453747        0.004743      0.008046   \n",
      "           CSCO              -0.291298       -0.001961     -0.000327   \n",
      "2016-12-27 AAPL               0.284036        0.005316      0.006351   \n",
      "           CSCO               0.546260       -0.002276      0.001305   \n",
      "2016-12-28 AAPL               0.142595       -0.001625     -0.006467   \n",
      "           CSCO              -0.151900       -0.004581     -0.009121   \n",
      "2016-12-29 AAPL              -0.280609       -0.002819      0.002404   \n",
      "           CSCO              -0.085396        0.001315      0.002963   \n",
      "2016-12-30 AAPL               1.033726       -0.004042     -0.007115   \n",
      "           CSCO               0.836194       -0.007879     -0.011126   \n",
      "\n",
      "                   day_of_week  day_of_month  \n",
      "date       symbol                             \n",
      "2016-12-23 AAPL              4            23  \n",
      "           CSCO              4            23  \n",
      "2016-12-27 AAPL              1            27  \n",
      "           CSCO              1            27  \n",
      "2016-12-28 AAPL              2            28  \n",
      "           CSCO              2            28  \n",
      "2016-12-29 AAPL              3            29  \n",
      "           CSCO              3            29  \n",
      "2016-12-30 AAPL              4            30  \n",
      "           CSCO              4            30  \n"
     ]
    }
   ],
   "source": [
    "features = pd.DataFrame(index=prices.index)\n",
    "features['volume_change_ratio'] = prices.groupby(level='symbol').volume\\\n",
    ".diff(1) / prices.groupby(level='symbol').shift(1).volume\n",
    "features['momentum_5_day'] = prices.groupby(level='symbol').close\\\n",
    ".pct_change(5) \n",
    "\n",
    "features['intraday_chg'] = (prices.groupby(level='symbol').close\\\n",
    "                            .shift(0) - prices.groupby(level='symbol').open\\\n",
    "                            .shift(0))/prices.groupby(level='symbol').open.shift(0)\n",
    "\n",
    "features['day_of_week'] = features.index.get_level_values('date').weekday\n",
    "\n",
    "features['day_of_month'] = features.index.get_level_values('date').day\n",
    "\n",
    "features.dropna(inplace=True)\n",
    "print(features.tail(10))"
   ]
  },
  {
   "cell_type": "code",
   "execution_count": 51,
   "metadata": {},
   "outputs": [],
   "source": [
    "outcomes = pd.DataFrame(index=prices.index)\n",
    "# next day's opening change\n",
    "outcomes['open_1'] = prices.groupby(level='symbol').open.shift(-1)\\\n",
    "/prices.groupby(level='symbol').close.shift(0)-1\n",
    "# next day's closing change\n",
    "func_one_day_ahead = lambda x: x.pct_change(-1)\n",
    "outcomes['close_1'] = prices.groupby(level='symbol').close\\\n",
    ".apply(func_one_day_ahead)\n",
    "func_five_day_ahead = lambda x: x.pct_change(-5)\n",
    "outcomes['close_5'] = prices.groupby(level='symbol').close\\\n",
    ".apply(func_five_day_ahead)"
   ]
  },
  {
   "cell_type": "code",
   "execution_count": 55,
   "metadata": {},
   "outputs": [],
   "source": [
    "# a valid value exists for both y and X\n",
    "y = outcomes.close_1\n",
    "X = features\n",
    "Xy = X.join(y).dropna()\n",
    "y = Xy[y.name]\n",
    "X = Xy[X.columns]"
   ]
  },
  {
   "cell_type": "code",
   "execution_count": 58,
   "metadata": {},
   "outputs": [
    {
     "name": "stdout",
     "output_type": "stream",
     "text": [
      "Model RSQ: 0.01598347165537528\n",
      "[ 9.75791921e-04 -5.54280366e-03  1.50481641e-01 -4.26758666e-04\n",
      "  3.63597672e-05]\n",
      "Coefficients: \n",
      "volume_change_ratio    0.000976\n",
      "momentum_5_day        -0.005543\n",
      "intraday_chg           0.150482\n",
      "day_of_week           -0.000427\n",
      "day_of_month           0.000036\n",
      "dtype: float64\n"
     ]
    }
   ],
   "source": [
    "from sklearn.linear_model import LinearRegression\n",
    "\n",
    "model = LinearRegression()\n",
    "model.fit(X,y)\n",
    "print(\"Model RSQ: \"+ str(model.score(X,y)))\n",
    "\n",
    "print(model.coef_)\n",
    "\n",
    "print(\"Coefficients: \")\n",
    "print(pd.Series(model.coef_, index=X.columns).sort_values(ascending=False))"
   ]
  },
  {
   "cell_type": "code",
   "execution_count": 61,
   "metadata": {},
   "outputs": [
    {
     "name": "stdout",
     "output_type": "stream",
     "text": [
      "(996,)\n",
      "(996, 5)\n",
      "Model Score: 0.859886469880583\n",
      "Feature Importance: \n",
      "intraday_chg           0.304055\n",
      "momentum_5_day         0.259014\n",
      "volume_change_ratio    0.247768\n",
      "day_of_month           0.129304\n",
      "day_of_week            0.059860\n",
      "dtype: float64\n"
     ]
    }
   ],
   "source": [
    "from sklearn.ensemble import RandomForestRegressor\n",
    "\n",
    "y = outcomes.open_1\n",
    "X = features\n",
    "Xy = X.join(y).dropna()\n",
    "y = Xy[y.name]\n",
    "X = Xy[X.columns]\n",
    "print(y.shape)\n",
    "print(X.shape)\n",
    "\n",
    "model = RandomForestRegressor(max_features=3)\n",
    "model.fit(X,y)\n",
    "print(\"Model Score: \"+ str(model.score(X,y)))\n",
    "\n",
    "print(\"Feature Importance: \")\n",
    "print(pd.Series(model.feature_importances_,index=X.columns)\\\n",
    ".sort_values(ascending=False))"
   ]
  },
  {
   "cell_type": "code",
   "execution_count": 62,
   "metadata": {},
   "outputs": [
    {
     "name": "stdout",
     "output_type": "stream",
     "text": [
      "date        symbol\n",
      "2016-12-22  AAPL     -0.004547\n",
      "            CSCO      0.001259\n",
      "2016-12-23  AAPL     -0.000201\n",
      "            CSCO      0.001655\n",
      "2016-12-27  AAPL      0.001574\n",
      "            CSCO      0.001585\n",
      "2016-12-28  AAPL     -0.001967\n",
      "            CSCO     -0.000973\n",
      "2016-12-29  AAPL     -0.000133\n",
      "            CSCO      0.002231\n",
      "dtype: float64\n"
     ]
    }
   ],
   "source": [
    "print(pd.Series(model.predict(X),index=X.index).tail(10))"
   ]
  }
 ],
 "metadata": {
  "kernelspec": {
   "display_name": "Python 3",
   "language": "python",
   "name": "python3"
  },
  "language_info": {
   "codemirror_mode": {
    "name": "ipython",
    "version": 3
   },
   "file_extension": ".py",
   "mimetype": "text/x-python",
   "name": "python",
   "nbconvert_exporter": "python",
   "pygments_lexer": "ipython3",
   "version": "3.7.7"
  }
 },
 "nbformat": 4,
 "nbformat_minor": 4
}
