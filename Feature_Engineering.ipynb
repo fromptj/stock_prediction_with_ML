{
 "cells": [
  {
   "cell_type": "code",
   "execution_count": 5,
   "metadata": {},
   "outputs": [],
   "source": [
    "import numpy as np\n",
    "import pandas as pd\n",
    "pd.core.common.is_list_like = pd.api.types.is_list_like # may be necessary in some versions of pandas\n",
    "import pandas_datareader.data as web"
   ]
  },
  {
   "cell_type": "code",
   "execution_count": 6,
   "metadata": {},
   "outputs": [],
   "source": [
    "def get_symbols(symbols, data_source, begin_date=None, end_date=None):\n",
    "    out = pd.DataFrame()\n",
    "    for symbol in symbols:\n",
    "        df = web.DataReader(symbol, data_source, begin_date, end_date, api_key='2gwP5WpwYPiHshKy1H9v')\\\n",
    "        [['AdjOpen','AdjHigh','AdjLow','AdjClose','AdjVolume']].reset_index()\n",
    "        df.columns = ['date','open','high','low','close','volume'] #my convention: always lowercase\n",
    "        df['symbol'] = symbol # add a new column which contains the symbol so we can keep multiple symbols in the same dataframe\n",
    "        df = df.set_index(['date', 'symbol'])\n",
    "        out = pd.concat([out, df], axis=0) #stacks on top of previously collected data\n",
    "    return out.sort_index()\n",
    "        \n",
    "prices = get_symbols(['AAPL','CSCO'], data_source='quandl', begin_date='2015-01-01',end_date='2017-01-01')"
   ]
  },
  {
   "cell_type": "code",
   "execution_count": 7,
   "metadata": {},
   "outputs": [
    {
     "name": "stdout",
     "output_type": "stream",
     "text": [
      "MultiIndex([('2015-01-02', 'AAPL'),\n",
      "            ('2015-01-02', 'CSCO'),\n",
      "            ('2015-01-05', 'AAPL'),\n",
      "            ('2015-01-05', 'CSCO'),\n",
      "            ('2015-01-06', 'AAPL'),\n",
      "            ('2015-01-06', 'CSCO'),\n",
      "            ('2015-01-07', 'AAPL'),\n",
      "            ('2015-01-07', 'CSCO'),\n",
      "            ('2015-01-08', 'AAPL'),\n",
      "            ('2015-01-08', 'CSCO'),\n",
      "            ...\n",
      "            ('2016-12-23', 'AAPL'),\n",
      "            ('2016-12-23', 'CSCO'),\n",
      "            ('2016-12-27', 'AAPL'),\n",
      "            ('2016-12-27', 'CSCO'),\n",
      "            ('2016-12-28', 'AAPL'),\n",
      "            ('2016-12-28', 'CSCO'),\n",
      "            ('2016-12-29', 'AAPL'),\n",
      "            ('2016-12-29', 'CSCO'),\n",
      "            ('2016-12-30', 'AAPL'),\n",
      "            ('2016-12-30', 'CSCO')],\n",
      "           names=['date', 'symbol'], length=1008)\n",
      "                        f01       f02\n",
      "date       symbol                    \n",
      "2016-12-28 CSCO   -0.009121  0.000652\n",
      "2016-12-29 AAPL    0.002404 -0.002655\n",
      "           CSCO    0.002963 -0.001644\n",
      "2016-12-30 AAPL   -0.007115 -0.000685\n",
      "           CSCO   -0.011126  0.003283\n"
     ]
    }
   ],
   "source": [
    "print(prices.index)\n",
    "features = pd.DataFrame(index=prices.index).sort_index()\n",
    "features['f01'] = prices.close/prices.open-1 # daily return\n",
    "features['f02'] = prices.open/prices.groupby(level='symbol').close.shift(1)-1 \n",
    "print(features.tail())"
   ]
  },
  {
   "cell_type": "code",
   "execution_count": 9,
   "metadata": {},
   "outputs": [],
   "source": [
    "features['f03'] = prices.volume.apply(np.log) # log of daily volume\n",
    "features['f04'] = prices.groupby(level='symbol').volume.diff(50) # change since 50 days prior"
   ]
  },
  {
   "cell_type": "code",
   "execution_count": 10,
   "metadata": {},
   "outputs": [],
   "source": [
    "pct_chg_fxn = lambda x: x.pct_change()\n",
    "features['f05'] = prices.groupby(level='symbol').volume.apply(pct_chg_fxn) "
   ]
  },
  {
   "cell_type": "code",
   "execution_count": 14,
   "metadata": {},
   "outputs": [
    {
     "name": "stdout",
     "output_type": "stream",
     "text": [
      "date        symbol\n",
      "2015-01-02  AAPL     NaN\n",
      "            CSCO     NaN\n",
      "2015-01-05  AAPL     NaN\n",
      "            CSCO     NaN\n",
      "2015-01-06  AAPL     NaN\n",
      "Name: f06, dtype: float64\n"
     ]
    }
   ],
   "source": [
    "# log of 5 day moving average of volume\n",
    "ma_5 = lambda x: x.rolling(5).mean()\n",
    "features['f06'] = prices.volume.groupby(level='symbol').apply(ma_5)\\\n",
    ".apply(np.log) \n",
    "\n",
    "print(features['f06'].head(5))\n",
    "\n",
    "# daily volume vs. 200 day moving average\n",
    "ma_200 = lambda x: x.rolling(200).mean()\n",
    "features['f07'] = prices.volume / prices.volume.groupby(level='symbol')\\\n",
    ".apply(ma_200)-1\n",
    "\n",
    "# daily closing price vs. 50 day exponential moving avg\n",
    "ema_50 = lambda x: x.ewm(span=50).mean()\n",
    "features['f08'] = prices.close / prices.close.groupby(level='symbol')\\\n",
    ".apply(ema_50)-1"
   ]
  },
  {
   "cell_type": "code",
   "execution_count": 19,
   "metadata": {},
   "outputs": [
    {
     "name": "stdout",
     "output_type": "stream",
     "text": [
      "symbol          AAPL      CSCO\n",
      "date                          \n",
      "2015-01-02 -0.487364 -0.682407\n",
      "2015-01-05 -0.783944 -0.925487\n",
      "2015-01-06 -0.782981 -0.929906\n",
      "2015-01-07 -0.639506 -0.819415\n",
      "2015-01-08 -0.240856 -0.726603\n",
      "...              ...       ...\n",
      "2015-05-20  1.610044  0.305817\n",
      "2015-05-21  1.739148  0.221203\n",
      "2015-05-22  1.850779  0.145496\n",
      "2015-05-26  1.567332  0.007442\n",
      "2015-05-27  1.802729  0.167763\n",
      "\n",
      "[100 rows x 2 columns]\n"
     ]
    },
    {
     "data": {
      "text/plain": [
       "<AxesSubplot:title={'center':'Z-Scores (not quite accurate)'}, ylabel='Density'>"
      ]
     },
     "execution_count": 19,
     "metadata": {},
     "output_type": "execute_result"
    },
    {
     "data": {
      "image/png": "[encoded data removed]",
      "text/plain": [
       "<Figure size 432x288 with 1 Axes>"
      ]
     },
     "metadata": {
      "needs_background": "light"
     },
     "output_type": "display_data"
    }
   ],
   "source": [
    "zscore_fxn = lambda x: (x - x.mean()) / x.std()\n",
    "features['f09'] =prices.groupby(level='symbol').close.apply(zscore_fxn)\n",
    "features.f09.unstack().plot.kde(title='Z-Scores (not quite accurate)')"
   ]
  },
  {
   "cell_type": "code",
   "execution_count": null,
   "metadata": {},
   "outputs": [],
   "source": [
    "zscore_fun_improved = lambda x: (x - x.rolling(window=200, min_periods=20).mean())\\\n",
    "/ x.rolling(window=200, min_periods=20).std()\n",
    "features['f10'] =prices.groupby(level='symbol').close.apply(zscore_fun_improved)\n",
    "features.f10.unstack().plot.kde(title='Z-Scores (accurate)')"
   ]
  },
  {
   "cell_type": "code",
   "execution_count": 24,
   "metadata": {},
   "outputs": [],
   "source": [
    "rollrank_fxn = lambda x: x.rolling(200,min_periods=20)\\\n",
    ".apply(lambda x: pd.Series(x).rank(pct=True)[0])\n",
    "features['f11'] = prices.groupby(level='symbol').volume.apply(rollrank_fxn)"
   ]
  },
  {
   "cell_type": "code",
   "execution_count": 27,
   "metadata": {},
   "outputs": [
    {
     "name": "stdout",
     "output_type": "stream",
     "text": [
      "date        symbol\n",
      "2015-10-16  AAPL     -0.276595\n",
      "            CSCO     -0.271157\n",
      "2015-10-19  AAPL     -0.450086\n",
      "            CSCO     -0.240542\n",
      "2015-10-20  AAPL     -0.093851\n",
      "Name: f07, dtype: float64\n"
     ]
    }
   ],
   "source": [
    "features['f12'] = features['f07'].dropna().groupby(level='date').rank(pct=True) "
   ]
  },
  {
   "cell_type": "code",
   "execution_count": 42,
   "metadata": {},
   "outputs": [],
   "source": [
    "import ta\n",
    "\n",
    "#Money Flow Index under 20 oversold, over 80 overbought\n",
    "features['f13'] = ta.volume.money_flow_index(prices.high, \\\n",
    "                                         prices.low, prices.close, \\\n",
    "                                         prices.volume, 14, fillna=False)"
   ]
  },
  {
   "cell_type": "code",
   "execution_count": 43,
   "metadata": {},
   "outputs": [],
   "source": [
    "# mean-centered money flow index\n",
    "\n",
    "features['f14'] = features['f13'] - features['f13']\\\n",
    ".rolling(200, min_periods=20).mean()"
   ]
  },
  {
   "cell_type": "code",
   "execution_count": 44,
   "metadata": {},
   "outputs": [],
   "source": [
    "# binning\n",
    "\n",
    "n_bins = 10\n",
    "bin_fxn = lambda y: pd.qcut(y, q=n_bins, labels = range(1,n_bins+1))\n",
    "features['f15'] = prices.volume.groupby(level='symbol').apply(bin_fxn)"
   ]
  },
  {
   "cell_type": "code",
   "execution_count": 45,
   "metadata": {},
   "outputs": [],
   "source": [
    "#signing\n",
    "\n",
    "features['f16'] = features['f05'].apply(np.sign)"
   ]
  },
  {
   "cell_type": "code",
   "execution_count": 46,
   "metadata": {},
   "outputs": [],
   "source": [
    "#plus-minus\n",
    "\n",
    "plus_minus_fxn = lambda x: x.rolling(20).sum()\n",
    "features['f17'] = features['f16'].groupby(level='symbol').apply(plus_minus_fxn)"
   ]
  },
  {
   "cell_type": "code",
   "execution_count": 47,
   "metadata": {},
   "outputs": [
    {
     "name": "stdout",
     "output_type": "stream",
     "text": [
      "                   f18  f19  f20  f21  f22  f23  f24  f25  f26  f27  f28  f29\n",
      "date       symbol                                                            \n",
      "2016-12-28 CSCO      0    0    0    0    0    0    0    0    0    0    0    1\n",
      "2016-12-29 AAPL      0    0    0    0    0    0    0    0    0    0    0    1\n",
      "           CSCO      0    0    0    0    0    0    0    0    0    0    0    1\n",
      "2016-12-30 AAPL      0    0    0    0    0    0    0    0    0    0    0    1\n",
      "           CSCO      0    0    0    0    0    0    0    0    0    0    0    1\n"
     ]
    }
   ],
   "source": [
    "month_of_year = prices.index.get_level_values(level='date').month\n",
    "one_hot_frame = pd.DataFrame(pd.get_dummies(month_of_year))\n",
    "one_hot_frame.index = prices.index # Careful! This is forcing index values without usual pandas alignments!\n",
    "\n",
    "# create column names \n",
    "begin_num = int(features.columns[-1][-2:]) + 1 #first available feature\n",
    "feat_names = ['f'+str(num) for num in list(range(begin_num,begin_num+12,1))]\n",
    "\n",
    "# rename columns and merge\n",
    "one_hot_frame.columns = feat_names\n",
    "features = features.join(one_hot_frame)\n",
    "print(features.iloc[:,-12:].tail())"
   ]
  },
  {
   "cell_type": "code",
   "execution_count": null,
   "metadata": {},
   "outputs": [],
   "source": []
  }
 ],
 "metadata": {
  "kernelspec": {
   "display_name": "Python 3",
   "language": "python",
   "name": "python3"
  },
  "language_info": {
   "codemirror_mode": {
    "name": "ipython",
    "version": 3
   },
   "file_extension": ".py",
   "mimetype": "text/x-python",
   "name": "python",
   "nbconvert_exporter": "python",
   "pygments_lexer": "ipython3",
   "version": "3.7.7"
  }
 },
 "nbformat": 4,
 "nbformat_minor": 4
}
